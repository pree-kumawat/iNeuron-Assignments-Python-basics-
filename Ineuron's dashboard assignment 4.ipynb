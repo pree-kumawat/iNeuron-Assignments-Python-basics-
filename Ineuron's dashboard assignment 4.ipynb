{
 "cells": [
  {
   "cell_type": "markdown",
   "id": "48bd7338",
   "metadata": {},
   "source": [
    "## 1. What exactly is []?"
   ]
  },
  {
   "cell_type": "markdown",
   "id": "754053bd",
   "metadata": {},
   "source": [
    "This is the notation of an empty list."
   ]
  },
  {
   "cell_type": "markdown",
   "id": "500e40ed",
   "metadata": {},
   "source": [
    "## 2. In a list of values stored in a variable called spam, how would you assign the value &#39;hello&#39; as the third value? (Assume [2, 4, 6, 8, 10] are in spam.)"
   ]
  },
  {
   "cell_type": "code",
   "execution_count": 2,
   "id": "6b38bbbc",
   "metadata": {},
   "outputs": [],
   "source": [
    "spam = [2, 4, 6, 8, 10]\n",
    "spam[2] = 'hello'\n"
   ]
  },
  {
   "cell_type": "code",
   "execution_count": 3,
   "id": "e6aa8843",
   "metadata": {},
   "outputs": [
    {
     "data": {
      "text/plain": [
       "[2, 4, 'hello', 8, 10]"
      ]
     },
     "execution_count": 3,
     "metadata": {},
     "output_type": "execute_result"
    }
   ],
   "source": [
    "spam"
   ]
  },
  {
   "cell_type": "markdown",
   "id": "b0748eb5",
   "metadata": {},
   "source": [
    "## Let&#39;s pretend the spam includes the list [&#39;a&#39;, &#39;b&#39;, &#39;c&#39;, &#39;d&#39;] for the next three queries. "
   ]
  },
  {
   "cell_type": "markdown",
   "id": "cc73293e",
   "metadata": {},
   "source": [
    "## 3. What is the value of spam[int(int(&#39;3&#39; * 2) / 11)]?"
   ]
  },
  {
   "cell_type": "code",
   "execution_count": 4,
   "id": "83ddf4bc",
   "metadata": {},
   "outputs": [],
   "source": [
    "spam = ['a', 'b', 'c', 'd']"
   ]
  },
  {
   "cell_type": "code",
   "execution_count": 5,
   "id": "29ba4dfb",
   "metadata": {},
   "outputs": [
    {
     "data": {
      "text/plain": [
       "'d'"
      ]
     },
     "execution_count": 5,
     "metadata": {},
     "output_type": "execute_result"
    }
   ],
   "source": [
    "spam[int(int('3' * 2) / 11)]       # The output is 'd'"
   ]
  },
  {
   "cell_type": "markdown",
   "id": "3194991a",
   "metadata": {},
   "source": [
    "## 4. What is the value of spam[-1]?"
   ]
  },
  {
   "cell_type": "code",
   "execution_count": 6,
   "id": "81369330",
   "metadata": {},
   "outputs": [
    {
     "data": {
      "text/plain": [
       "'d'"
      ]
     },
     "execution_count": 6,
     "metadata": {},
     "output_type": "execute_result"
    }
   ],
   "source": [
    "spam[-1]"
   ]
  },
  {
   "cell_type": "markdown",
   "id": "7ff8d724",
   "metadata": {},
   "source": [
    "## 5. What is the value of spam[:2]?"
   ]
  },
  {
   "cell_type": "code",
   "execution_count": 7,
   "id": "0fc0c65d",
   "metadata": {},
   "outputs": [
    {
     "data": {
      "text/plain": [
       "['a', 'b']"
      ]
     },
     "execution_count": 7,
     "metadata": {},
     "output_type": "execute_result"
    }
   ],
   "source": [
    "spam[:2]"
   ]
  },
  {
   "cell_type": "markdown",
   "id": "bca3f706",
   "metadata": {},
   "source": [
    "## Let&#39;s pretend bacon has the list [3.14, &#39;cat,&#39; 11, &#39;cat,&#39; True] for the next three questions."
   ]
  },
  {
   "cell_type": "code",
   "execution_count": 11,
   "id": "b1aca8c7",
   "metadata": {},
   "outputs": [],
   "source": [
    "bacon =  [3.14, 'cat', 11, 'cat', True]"
   ]
  },
  {
   "cell_type": "markdown",
   "id": "c5dbeb5f",
   "metadata": {},
   "source": [
    "## 6. What is the value of bacon.index(&#39;cat&#39;)?"
   ]
  },
  {
   "cell_type": "code",
   "execution_count": 12,
   "id": "e1626c04",
   "metadata": {},
   "outputs": [
    {
     "data": {
      "text/plain": [
       "1"
      ]
     },
     "execution_count": 12,
     "metadata": {},
     "output_type": "execute_result"
    }
   ],
   "source": [
    "bacon.index('cat')"
   ]
  },
  {
   "cell_type": "markdown",
   "id": "7ffe2026",
   "metadata": {},
   "source": [
    "## 7. How does bacon.append(99) change the look of the list value in bacon?"
   ]
  },
  {
   "cell_type": "code",
   "execution_count": 13,
   "id": "d4f7f1ed",
   "metadata": {},
   "outputs": [],
   "source": [
    "bacon =  [3.14, 'cat', 11, 'cat', True]\n",
    "bacon.append(99) "
   ]
  },
  {
   "cell_type": "code",
   "execution_count": 14,
   "id": "115c76ce",
   "metadata": {},
   "outputs": [
    {
     "data": {
      "text/plain": [
       "[3.14, 'cat', 11, 'cat', True, 99]"
      ]
     },
     "execution_count": 14,
     "metadata": {},
     "output_type": "execute_result"
    }
   ],
   "source": [
    "bacon"
   ]
  },
  {
   "cell_type": "markdown",
   "id": "f79c87a2",
   "metadata": {},
   "source": [
    "## 8. How does bacon.remove(&#39;cat&#39;) change the look of the list in bacon?"
   ]
  },
  {
   "cell_type": "code",
   "execution_count": 15,
   "id": "f80a9ebb",
   "metadata": {},
   "outputs": [],
   "source": [
    "bacon.remove('cat')"
   ]
  },
  {
   "cell_type": "code",
   "execution_count": 16,
   "id": "7fac67fc",
   "metadata": {},
   "outputs": [
    {
     "data": {
      "text/plain": [
       "[3.14, 11, 'cat', True, 99]"
      ]
     },
     "execution_count": 16,
     "metadata": {},
     "output_type": "execute_result"
    }
   ],
   "source": [
    "bacon"
   ]
  },
  {
   "cell_type": "markdown",
   "id": "eef8b9c4",
   "metadata": {},
   "source": [
    "## 9. What are the list concatenation and list replication operators?"
   ]
  },
  {
   "cell_type": "markdown",
   "id": "e349a5ed",
   "metadata": {},
   "source": [
    "The list concatenation operator is the plus sign (+), and the list replication operator is the asterisk (*).\n",
    "\n",
    "List Concatenation Operator (+): The list concatenation operator '+' is used to combine two or more lists into a single list. When applied to lists, it creates a new list that contains all the elements from the operands in the order they appear."
   ]
  },
  {
   "cell_type": "code",
   "execution_count": 17,
   "id": "e954b0f1",
   "metadata": {},
   "outputs": [
    {
     "name": "stdout",
     "output_type": "stream",
     "text": [
      "[1, 2, 3, 4, 5, 6]\n"
     ]
    }
   ],
   "source": [
    "list1 = [1, 2, 3]\n",
    "list2 = [4, 5, 6]\n",
    "concatenated_list = list1 + list2\n",
    "print(concatenated_list)  "
   ]
  },
  {
   "cell_type": "markdown",
   "id": "aaf7d54c",
   "metadata": {},
   "source": [
    "List Replication Operator (*): The list replication operator '*' is used to create a new list by repeating the elements of an existing list a certain number of times. It allows you to make copies or repetitions of a list."
   ]
  },
  {
   "cell_type": "code",
   "execution_count": 18,
   "id": "8f9dde0b",
   "metadata": {},
   "outputs": [
    {
     "name": "stdout",
     "output_type": "stream",
     "text": [
      "[1, 2, 3, 1, 2, 3, 1, 2, 3]\n"
     ]
    }
   ],
   "source": [
    "original_list = [1, 2, 3]\n",
    "replicated_list = original_list * 3\n",
    "print(replicated_list)  "
   ]
  },
  {
   "cell_type": "markdown",
   "id": "eb43931f",
   "metadata": {},
   "source": [
    "## 10. What is difference between the list methods append() and insert()?"
   ]
  },
  {
   "cell_type": "markdown",
   "id": "cf2b5f3a",
   "metadata": {},
   "source": [
    "append() method: The append() method is used to add an element to the end of a list.\n",
    "It takes a single argument, which is the element to be added, and modifies the list in place by appending the element to the end."
   ]
  },
  {
   "cell_type": "code",
   "execution_count": 19,
   "id": "dbacd5d5",
   "metadata": {},
   "outputs": [
    {
     "name": "stdout",
     "output_type": "stream",
     "text": [
      "[1, 2, 3, 4]\n"
     ]
    }
   ],
   "source": [
    "my_list = [1, 2, 3]\n",
    "my_list.append(4)\n",
    "print(my_list)  \n"
   ]
  },
  {
   "cell_type": "markdown",
   "id": "0a437ad2",
   "metadata": {},
   "source": [
    "insert() method: The insert() method is used to insert an element at a specific position/index within a list.\n",
    "It takes two arguments: the index at which to insert the element and the element itself.\n",
    "The method modifies the list in place by shifting existing elements to the right of the specified index and inserting the element at the given position."
   ]
  },
  {
   "cell_type": "code",
   "execution_count": 20,
   "id": "b8737288",
   "metadata": {},
   "outputs": [
    {
     "name": "stdout",
     "output_type": "stream",
     "text": [
      "[1, 'a', 2, 3]\n"
     ]
    }
   ],
   "source": [
    "my_list = [1, 2, 3]\n",
    "my_list.insert(1, 'a')\n",
    "print(my_list)  \n"
   ]
  },
  {
   "cell_type": "markdown",
   "id": "61812cb0",
   "metadata": {},
   "source": [
    "## 11. What are the two methods for removing items from a list?"
   ]
  },
  {
   "cell_type": "markdown",
   "id": "a78e3d28",
   "metadata": {},
   "source": [
    "1. \"remove()\" method: The remove() method is used to remove the first occurrence of a specified value from a list.\n",
    "It takes a single argument, which is the value to be removed, and modifies the list in place by deleting the first occurrence of that value.\n",
    "\n",
    "2. \"pop()\" method: The pop() method is used to remove an element at a specific index from a list and returns the removed value.\n",
    "It takes an optional index as an argument. If no index is specified, it removes and returns the last element from the list.\n",
    "The method modifies the list in place by deleting the element at the specified index."
   ]
  },
  {
   "cell_type": "code",
   "execution_count": 21,
   "id": "4f46653c",
   "metadata": {},
   "outputs": [
    {
     "name": "stdout",
     "output_type": "stream",
     "text": [
      "[1, 3, 2]\n"
     ]
    }
   ],
   "source": [
    "my_list = [1, 2, 3, 2]\n",
    "my_list.remove(2)\n",
    "print(my_list)  "
   ]
  },
  {
   "cell_type": "code",
   "execution_count": 22,
   "id": "ec709608",
   "metadata": {},
   "outputs": [
    {
     "name": "stdout",
     "output_type": "stream",
     "text": [
      "['a', 'c']\n",
      "b\n"
     ]
    }
   ],
   "source": [
    "my_list = ['a', 'b', 'c']\n",
    "removed_element = my_list.pop(1)\n",
    "print(my_list)           \n",
    "print(removed_element)  \n"
   ]
  },
  {
   "cell_type": "markdown",
   "id": "5079ea34",
   "metadata": {},
   "source": [
    "## 12. Describe how list values and string values are identical."
   ]
  },
  {
   "cell_type": "markdown",
   "id": "f2e6c92c",
   "metadata": {},
   "source": [
    "List values and string values are similar in several ways:\n",
    "\n",
    "1. Both lists and strings are sequences of values: A string is a sequence of characters, while a list is a sequence of arbitrary objects.\n",
    "\n",
    "2. Both lists and strings can be indexed and sliced: We can access individual elements of a list or string by index, and we can also slice them to obtain a subset of the original sequence.\n",
    "\n",
    "3. Both lists and strings support concatenation and repetition: We can concatenate two or more strings or lists to create a new sequence, and we can also repeat a string or list a specified number of times.\n",
    "\n",
    "4. Both lists and strings are iterable: We can iterate over the elements of a list or string using a for loop or other iterable methods.\n",
    "\n",
    "Because of these similarities, many of the same methods and operations can be used on both lists and strings . However, it is important to note that lists and strings are different data types, and they have different methods and operations that are specific to their types. For example, we can append items to a list using the 'append()' method, but we cannot do this with a string because strings are immutable in Python."
   ]
  },
  {
   "cell_type": "markdown",
   "id": "8eb81524",
   "metadata": {},
   "source": [
    "## 13. What&#39;s the difference between tuples and lists?"
   ]
  },
  {
   "cell_type": "markdown",
   "id": "56c89be5",
   "metadata": {},
   "source": [
    "Tuples and lists are both used to store collections of items, but they have several key differences:\n",
    "\n",
    "1. Mutability: Lists are mutable, which means their elements can be modified, added, or removed after the list is created. In contrast, tuples are immutable, meaning their elements cannot be changed once the tuple is created. We cannot add, remove, or modify elements in a tuple.\n",
    "\n",
    "\n",
    "2. Syntax: Lists are defined using square brackets [], while tuples are defined using parentheses () or without any brackets (comma-separated values)\n",
    "\n",
    "\n",
    "3. Usage: Lists are typically used when we have a collection of items that may need to be modified or reordered. Tuples are often used when we have a collection of items that should not change, such as coordinates or records in a database.\n",
    "\n",
    "\n",
    "4. Performance: Tuples are generally more lightweight and faster to access than lists because of their immutability. Lists require more memory and have more functionality due to their mutable nature. Therefore, tuples can be more efficient for storing data that won't change.\n",
    "\n",
    "\n",
    "5. Function return values: Tuples are commonly used to return multiple values from a function, whereas lists can also be used but are more often used for storing homogeneous sequences of items."
   ]
  },
  {
   "cell_type": "code",
   "execution_count": null,
   "id": "261fbd8b",
   "metadata": {},
   "outputs": [],
   "source": [
    "my_list = [1, 2, 3]  # List\n",
    "my_tuple = (1, 2, 3)  # Tuple"
   ]
  },
  {
   "cell_type": "markdown",
   "id": "76ce41ad",
   "metadata": {},
   "source": [
    "## 14. How do you type a tuple value that only contains the integer 42?"
   ]
  },
  {
   "cell_type": "code",
   "execution_count": 23,
   "id": "0fae766e",
   "metadata": {},
   "outputs": [],
   "source": [
    "my_tuple = (42,)     # It's called a \"singleton tuple.\""
   ]
  },
  {
   "cell_type": "markdown",
   "id": "f625e8f1",
   "metadata": {},
   "source": [
    "## 15. How do you get a list value&#39;s tuple form? How do you get a tuple value&#39;s list form?"
   ]
  },
  {
   "cell_type": "code",
   "execution_count": 24,
   "id": "2b5c0c93",
   "metadata": {},
   "outputs": [
    {
     "name": "stdout",
     "output_type": "stream",
     "text": [
      "(1, 2, 3, 4)\n"
     ]
    }
   ],
   "source": [
    "# To convert a list value into its tuple form, we can use the tuple() function.\n",
    "my_list = [1, 2, 3, 4]\n",
    "my_tuple = tuple(my_list)\n",
    "print(my_tuple)"
   ]
  },
  {
   "cell_type": "code",
   "execution_count": 25,
   "id": "5172c5c0",
   "metadata": {},
   "outputs": [
    {
     "name": "stdout",
     "output_type": "stream",
     "text": [
      "[1, 2, 3, 4]\n"
     ]
    }
   ],
   "source": [
    "# To convert a tuple value into its list form, we can use the list() function.\n",
    "my_tuple = (1, 2, 3, 4)\n",
    "my_list = list(my_tuple)\n",
    "print(my_list)"
   ]
  },
  {
   "cell_type": "markdown",
   "id": "1c3d8ee1",
   "metadata": {},
   "source": [
    "## 16. Variables that &quot;contain&quot; list values are not necessarily lists themselves. Instead, what do they contain?"
   ]
  },
  {
   "cell_type": "markdown",
   "id": "4a892a27",
   "metadata": {},
   "source": [
    "Variables that \"contain\" list values do not actually contain the list itself. Instead, they contain a reference or pointer to the list object stored in memory.\n",
    "\n",
    "Variables are essentially names or labels that refer to objects in memory. When you assign a list to a variable, the variable does not store the entire list directly. It stores a reference to the memory location where the list object is stored."
   ]
  },
  {
   "cell_type": "markdown",
   "id": "5f7abbfa",
   "metadata": {},
   "source": [
    "## 17. How do you distinguish between copy.copy() and copy.deepcopy()?"
   ]
  },
  {
   "cell_type": "markdown",
   "id": "fd2a6d98",
   "metadata": {},
   "source": [
    "The copy.copy() and copy.deepcopy() functions in Python's \"copy\" module are used to create copies of objects, but they differ in terms of the level of copying performed:\n",
    "\n",
    "1. copy.copy() (Shallow Copy):\n",
    "\n",
    "* The copy.copy() function creates a shallow copy of an object.\n",
    "* Shallow copying creates a new object and inserts references to the same elements as the original object, without recursively copying nested objects.\n",
    "* In other words, a shallow copy creates a new object with references to the original nested objects.\n",
    "* If the original object contains mutable objects (e.g., lists or dictionaries), changes to those mutable objects will be reflected in both the original and copied objects."
   ]
  },
  {
   "cell_type": "code",
   "execution_count": 26,
   "id": "fe654f7a",
   "metadata": {},
   "outputs": [
    {
     "name": "stdout",
     "output_type": "stream",
     "text": [
      "[1, [2, 3, 4]]\n",
      "[10, [2, 3, 4]]\n"
     ]
    }
   ],
   "source": [
    "import copy\n",
    "\n",
    "original_list = [1, [2, 3]]\n",
    "copied_list = copy.copy(original_list)\n",
    "\n",
    "copied_list[0] = 10\n",
    "copied_list[1].append(4)\n",
    "\n",
    "print(original_list)  # Output: [1, [2, 3, 4]]\n",
    "print(copied_list)    # Output: [10, [2, 3, 4]]\n"
   ]
  },
  {
   "cell_type": "markdown",
   "id": "cc4ff430",
   "metadata": {},
   "source": [
    "2. copy.deepcopy() (Deep Copy):\n",
    "\n",
    "* The copy.deepcopy() function creates a deep copy of an object.\n",
    "* Deep copying creates a new object and recursively copies all nested objects, creating separate copies of each object.\n",
    "* In other words, a deep copy creates a new object with its own copies of all nested objects.\n",
    "* Changes made to the original object or its nested objects after the deep copy will not be reflected in the copied object."
   ]
  },
  {
   "cell_type": "code",
   "execution_count": 27,
   "id": "d8634177",
   "metadata": {},
   "outputs": [
    {
     "name": "stdout",
     "output_type": "stream",
     "text": [
      "[1, [2, 3]]\n",
      "[10, [2, 3, 4]]\n"
     ]
    }
   ],
   "source": [
    "import copy\n",
    "\n",
    "original_list = [1, [2, 3]]\n",
    "copied_list = copy.deepcopy(original_list)\n",
    "\n",
    "copied_list[0] = 10\n",
    "copied_list[1].append(4)\n",
    "\n",
    "print(original_list)  # Output: [1, [2, 3]]\n",
    "print(copied_list)    # Output: [10, [2, 3, 4]]\n"
   ]
  },
  {
   "cell_type": "code",
   "execution_count": null,
   "id": "fd3bca89",
   "metadata": {},
   "outputs": [],
   "source": []
  }
 ],
 "metadata": {
  "kernelspec": {
   "display_name": "Python 3 (ipykernel)",
   "language": "python",
   "name": "python3"
  },
  "language_info": {
   "codemirror_mode": {
    "name": "ipython",
    "version": 3
   },
   "file_extension": ".py",
   "mimetype": "text/x-python",
   "name": "python",
   "nbconvert_exporter": "python",
   "pygments_lexer": "ipython3",
   "version": "3.10.7"
  }
 },
 "nbformat": 4,
 "nbformat_minor": 5
}
