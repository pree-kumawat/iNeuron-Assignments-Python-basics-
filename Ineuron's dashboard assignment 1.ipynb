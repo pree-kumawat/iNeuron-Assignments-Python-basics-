{
 "cells": [
  {
   "cell_type": "markdown",
   "id": "e2f61a14",
   "metadata": {},
   "source": [
    "# 1. In the below elements which of them are values or an expression? eg:- values can be integer or string and expressions will be mathematical operators.\n",
    " \n",
    "'hello', *, -87.8, -, /, +, 6\n",
    " \n"
   ]
  },
  {
   "cell_type": "code",
   "execution_count": null,
   "id": "4946b95f",
   "metadata": {},
   "outputs": [],
   "source": [
    "Values are:- 'hello', -87.8\n",
    "Expressions are:- *,-,/,+,6"
   ]
  },
  {
   "cell_type": "markdown",
   "id": "5cc26c02",
   "metadata": {},
   "source": [
    "# 2. What is the difference between string and variable?"
   ]
  },
  {
   "cell_type": "markdown",
   "id": "aa781111",
   "metadata": {},
   "source": [
    "A string is a sequence of characters, such as \"Hello World\" or \"7234\". \n",
    "It is a specific type of data in programming languages that is used to represent\n",
    "text or other values that can be represented as characters.\n",
    "\n",
    "A variable, on the other hand, is a placeholder for a value in computer memory that can be\n",
    "used to store and manipulate data in a program. A variable can hold different types of data,\n",
    "including strings, numbers, and other types of values. We use variables to store data that we need to reference or manipulate later in our code.\n",
    "\n",
    " "
   ]
  },
  {
   "cell_type": "markdown",
   "id": "4456d73f",
   "metadata": {},
   "source": [
    "# 3. Describe three different data types."
   ]
  },
  {
   "cell_type": "markdown",
   "id": "c03d14e7",
   "metadata": {},
   "source": [
    "1. String(str):- Strings are commonly used to store text data and can be enclosed in \n",
    "                 either single or double quotes. This data type represents a sequence\n",
    "                 of characters, such as \"Hello, World!\" or \"I love Python\"\n",
    "            \n",
    "2. Integer(int):-This data type represents whole numbers, both positive and negative.\n",
    "                 For example, 5, -3, and 0 are all integers. In Python, integers have\n",
    "                 unlimited precision, which means that they can be as large or as small\n",
    "                 as necessary.\n",
    "                \n",
    "3. Floating point number(float):- This data type represents decimal numbers, such as 3.14 \n",
    "                         or -0.5. Floats are often used in scientific calculations or any\n",
    "                         application that requires high precision."
   ]
  },
  {
   "cell_type": "markdown",
   "id": "680cb931",
   "metadata": {},
   "source": [
    "# 4. What is an expression made up of? What do all expressions do?"
   ]
  },
  {
   "cell_type": "markdown",
   "id": "fd3542d8",
   "metadata": {},
   "source": [
    "An expression in programming is a combination of one or more values, variables, operators, and function calls that can be evaluated to produce a result. It can be as simple as a single value or as complex as a combination of multiple values and operations.\n",
    "\n",
    "All expressions in programming are designed to produce a result, which could be a value of a specific data type, a Boolean value (True or False), or an error message. The result of an expression can be used in many ways, such as assigning it to a variable, passing it as an argument to a function, or using it to make a decision in a conditional statement.\n",
    "\n",
    "Expressions can be used in many different contexts in programming, including mathematical calculations, string manipulation, and logical comparisons. They can also be used to create more complex operations, such as loops and conditionals, which form the basis of many programming algorithms."
   ]
  },
  {
   "cell_type": "markdown",
   "id": "da136f4e",
   "metadata": {},
   "source": [
    "# 5. This assignment statements, like spam = 10. What is the difference between an expression and a statement?"
   ]
  },
  {
   "cell_type": "markdown",
   "id": "0e0142bd",
   "metadata": {},
   "source": [
    "A statement in Python is a complete instruction that performs some action, such as assigning a value to a variable, calling a function, or iterating over a loop. Statements usually end with a newline character, but in some cases, they can be spread across multiple lines using the backslash () character or parentheses.\n",
    "\n",
    "An expression, on the other hand, is a combination of one or more values, variables, operators, and function calls that can be evaluated to produce a single value. For example, '2 + 3' is an expression that evaluates to the value '5'. Expressions can be used as part of a larger statement or can be assigned to a variable.\n",
    "\n",
    "The key difference between expressions and statements is that expressions always produce a value, whereas statements may or may not produce a value. In the case of an assignment statement like 'spam = 10', the statement assigns the value '10' to the variable 'spam', but it does not produce a value that can be used in further operations or statements.\n",
    "\n",
    "For example\n",
    "            Expression: result = 2+3\n",
    "\n",
    "            Statement: if x>y:\n",
    "                          print(\"x is greater than y\")"
   ]
  },
  {
   "cell_type": "markdown",
   "id": "399b061e",
   "metadata": {},
   "source": [
    "# 6. After running the following code, what does the variable bacon contain?\n",
    "bacon = 22\n",
    "bacon + 1\n"
   ]
  },
  {
   "cell_type": "code",
   "execution_count": 1,
   "id": "c5273e1d",
   "metadata": {},
   "outputs": [
    {
     "data": {
      "text/plain": [
       "23"
      ]
     },
     "execution_count": 1,
     "metadata": {},
     "output_type": "execute_result"
    }
   ],
   "source": [
    "bacon = 22\n",
    "bacon+1"
   ]
  },
  {
   "cell_type": "markdown",
   "id": "4a1eb463",
   "metadata": {},
   "source": [
    "# 7. What should the values of the following two terms be?\n",
    "'spam' + 'spamspam'\n",
    "'spam' * 3\n"
   ]
  },
  {
   "cell_type": "code",
   "execution_count": 2,
   "id": "b9abcf19",
   "metadata": {},
   "outputs": [
    {
     "data": {
      "text/plain": [
       "'spamspamspam'"
      ]
     },
     "execution_count": 2,
     "metadata": {},
     "output_type": "execute_result"
    }
   ],
   "source": [
    "'spam'+'spamspam'"
   ]
  },
  {
   "cell_type": "code",
   "execution_count": 3,
   "id": "a89ef1db",
   "metadata": {},
   "outputs": [
    {
     "data": {
      "text/plain": [
       "'spamspamspam'"
      ]
     },
     "execution_count": 3,
     "metadata": {},
     "output_type": "execute_result"
    }
   ],
   "source": [
    "'spam'*3"
   ]
  },
  {
   "cell_type": "markdown",
   "id": "9db7d51d",
   "metadata": {},
   "source": [
    "Both values would be same."
   ]
  },
  {
   "cell_type": "markdown",
   "id": "bf8d2806",
   "metadata": {},
   "source": [
    "# 8. Why is eggs a valid variable name while 100 is invalid?"
   ]
  },
  {
   "cell_type": "markdown",
   "id": "997b7095",
   "metadata": {},
   "source": [
    "In Python there are some rules that we should follow to create any valid variable:\n",
    "\n",
    "1.Variable names can only contain letters, digits, and underscores.\n",
    "\n",
    "2.Variable names must start with a letter or an underscore.\n",
    "\n",
    "3.Variable names cannot start with a digit.\n",
    "\n",
    "4.Variable names are case-sensitive.\n",
    "\n",
    "eggs is a valid variable name because it consists only of letters, and it starts with a letter. On the other hand, 100 is an invalid variable name because it starts with a digit, which is not allowed in python."
   ]
  },
  {
   "cell_type": "markdown",
   "id": "1e7e3f83",
   "metadata": {},
   "source": [
    "# 9. What three functions can be used to get the integer, floating-point number, or string version of a value?"
   ]
  },
  {
   "cell_type": "markdown",
   "id": "ac8d3c63",
   "metadata": {},
   "source": [
    "1. int(): This function can be used to convert a value to an integer. For example:\n"
   ]
  },
  {
   "cell_type": "code",
   "execution_count": 4,
   "id": "5077a45b",
   "metadata": {},
   "outputs": [
    {
     "name": "stdout",
     "output_type": "stream",
     "text": [
      "42\n"
     ]
    }
   ],
   "source": [
    "x = int(\"42\")\n",
    "print(x)   \n"
   ]
  },
  {
   "cell_type": "markdown",
   "id": "65c351c5",
   "metadata": {},
   "source": [
    "In this example, the int() function is used to convert the string \"42\" to the integer value 42.\n",
    "\n"
   ]
  },
  {
   "cell_type": "markdown",
   "id": "0cacf8fe",
   "metadata": {},
   "source": [
    "2. float(): This function can be used to convert a value to a floating-point number. For example:\n"
   ]
  },
  {
   "cell_type": "code",
   "execution_count": 5,
   "id": "b97d6aaa",
   "metadata": {},
   "outputs": [
    {
     "name": "stdout",
     "output_type": "stream",
     "text": [
      "3.14\n"
     ]
    }
   ],
   "source": [
    "y = float(\"3.14\")\n",
    "print(y)   \n"
   ]
  },
  {
   "cell_type": "markdown",
   "id": "c8304eed",
   "metadata": {},
   "source": [
    "In this example, the float() function is used to convert the string \"3.14\" to the floating-point value 3.14.\n",
    "\n"
   ]
  },
  {
   "cell_type": "markdown",
   "id": "1163b2b8",
   "metadata": {},
   "source": [
    "3. str(): This function can be used to convert a value to a string. For example:\n"
   ]
  },
  {
   "cell_type": "code",
   "execution_count": 6,
   "id": "5f11f650",
   "metadata": {},
   "outputs": [
    {
     "name": "stdout",
     "output_type": "stream",
     "text": [
      "42\n"
     ]
    }
   ],
   "source": [
    "z = str(42)\n",
    "print(z)   \n"
   ]
  },
  {
   "cell_type": "markdown",
   "id": "86bb8090",
   "metadata": {},
   "source": [
    "In this example, the str() function is used to convert the integer value 42 to the string \"42\".\n",
    "\n"
   ]
  },
  {
   "cell_type": "markdown",
   "id": "dd996ca5",
   "metadata": {},
   "source": [
    "# 10. Why does this expression cause an error? How can you fix it?\n",
    "'I have eaten ' + 99 + ' burritos.'\n"
   ]
  },
  {
   "cell_type": "code",
   "execution_count": 11,
   "id": "8c642d22",
   "metadata": {},
   "outputs": [
    {
     "data": {
      "text/plain": [
       "'I have eaten 99 burritos'"
      ]
     },
     "execution_count": 11,
     "metadata": {},
     "output_type": "execute_result"
    }
   ],
   "source": [
    "'I have eaten ' + '99 ' + 'burritos'"
   ]
  },
  {
   "cell_type": "markdown",
   "id": "37bd4f1d",
   "metadata": {},
   "source": [
    "We have to convert this integer number to string then it will only work because in python we cannot concetenate str and int togeather."
   ]
  },
  {
   "cell_type": "code",
   "execution_count": null,
   "id": "0bc03314",
   "metadata": {},
   "outputs": [],
   "source": []
  }
 ],
 "metadata": {
  "kernelspec": {
   "display_name": "Python 3 (ipykernel)",
   "language": "python",
   "name": "python3"
  },
  "language_info": {
   "codemirror_mode": {
    "name": "ipython",
    "version": 3
   },
   "file_extension": ".py",
   "mimetype": "text/x-python",
   "name": "python",
   "nbconvert_exporter": "python",
   "pygments_lexer": "ipython3",
   "version": "3.10.7"
  }
 },
 "nbformat": 4,
 "nbformat_minor": 5
}
