{
 "cells": [
  {
   "cell_type": "markdown",
   "id": "7c6a642e",
   "metadata": {},
   "source": [
    "## 1. What does an empty dictionary's code look like?"
   ]
  },
  {
   "cell_type": "code",
   "execution_count": 1,
   "id": "515c4a8f",
   "metadata": {},
   "outputs": [],
   "source": [
    "empty_dict = {}"
   ]
  },
  {
   "cell_type": "markdown",
   "id": "bb9a86e1",
   "metadata": {},
   "source": [
    "## 2. What is the value of a dictionary value with the key 'foo' and the value 42?"
   ]
  },
  {
   "cell_type": "code",
   "execution_count": 2,
   "id": "02eeb004",
   "metadata": {},
   "outputs": [
    {
     "name": "stdout",
     "output_type": "stream",
     "text": [
      "42\n"
     ]
    }
   ],
   "source": [
    "dict = {'foo': 42}\n",
    "value = dict['foo']\n",
    "print(value)      "
   ]
  },
  {
   "cell_type": "markdown",
   "id": "3fceca94",
   "metadata": {},
   "source": [
    "## 3. What is the most significant distinction between a dictionary and a list?"
   ]
  },
  {
   "cell_type": "markdown",
   "id": "0c1fd2a7",
   "metadata": {},
   "source": [
    "Lists are used to store the data, which should be ordered and sequential. On the other hand, dictionary is used to store large amounts of data for easy and quick access. List is ordered and mutable, whereas dictionaries are unordered and mutable.\n",
    "\n",
    "A dictionary is an unordered collection of key-value pairs, where each key is unique within the dictionary. Keys are used to access and retrieve corresponding values.\n",
    "\n",
    "A list, on the other hand, is an ordered collection of items, allowing duplicates. Items in a list are accessed and retrieved by their index, which represents their position in the list."
   ]
  },
  {
   "cell_type": "markdown",
   "id": "2993ccca",
   "metadata": {},
   "source": [
    "## 4. What happens if you try to access spam['foo'] if spam is {'bar': 100}?"
   ]
  },
  {
   "cell_type": "markdown",
   "id": "2abce216",
   "metadata": {},
   "source": [
    "It will raise a 'KeyError'. For avoid this 'KeyError' we can use a 'get' method with a default value."
   ]
  },
  {
   "cell_type": "code",
   "execution_count": 3,
   "id": "9e2ca158",
   "metadata": {},
   "outputs": [
    {
     "ename": "KeyError",
     "evalue": "'foo'",
     "output_type": "error",
     "traceback": [
      "\u001b[1;31m---------------------------------------------------------------------------\u001b[0m",
      "\u001b[1;31mKeyError\u001b[0m                                  Traceback (most recent call last)",
      "Input \u001b[1;32mIn [3]\u001b[0m, in \u001b[0;36m<cell line: 2>\u001b[1;34m()\u001b[0m\n\u001b[0;32m      1\u001b[0m spam \u001b[38;5;241m=\u001b[39m {\u001b[38;5;124m'\u001b[39m\u001b[38;5;124mbar\u001b[39m\u001b[38;5;124m'\u001b[39m: \u001b[38;5;241m100\u001b[39m}\n\u001b[1;32m----> 2\u001b[0m value \u001b[38;5;241m=\u001b[39m \u001b[43mspam\u001b[49m\u001b[43m[\u001b[49m\u001b[38;5;124;43m'\u001b[39;49m\u001b[38;5;124;43mfoo\u001b[39;49m\u001b[38;5;124;43m'\u001b[39;49m\u001b[43m]\u001b[49m\n",
      "\u001b[1;31mKeyError\u001b[0m: 'foo'"
     ]
    }
   ],
   "source": [
    "spam = {'bar': 100}\n",
    "value = spam['foo']  # Raises KeyError: 'foo'\n"
   ]
  },
  {
   "cell_type": "markdown",
   "id": "505feaf3",
   "metadata": {},
   "source": [
    "## 5. If a dictionary is stored in spam, what is the difference between the expressions 'cat' in spam and 'cat' in spam.keys()?"
   ]
  },
  {
   "cell_type": "markdown",
   "id": "e1a38c2d",
   "metadata": {},
   "source": [
    "'cat' in spam: This expression checks if the key 'cat' exists in the dictionary spam. It returns a Boolean value (True or False) indicating whether the key is present or not. It directly checks the keys of the dictionary.\n",
    "\n",
    "'cat' in spam.keys(): This expression also checks if the key 'cat' exists in the dictionary spam, but it explicitly calls the keys() method on the spam dictionary. The keys() method returns a view object that contains all the keys of the dictionary."
   ]
  },
  {
   "cell_type": "code",
   "execution_count": 11,
   "id": "e8084c8e",
   "metadata": {},
   "outputs": [],
   "source": [
    "spam = {'cat': 1, 'dog': 2, 'bird': 3}"
   ]
  },
  {
   "cell_type": "code",
   "execution_count": 12,
   "id": "91e57ea9",
   "metadata": {},
   "outputs": [
    {
     "data": {
      "text/plain": [
       "True"
      ]
     },
     "execution_count": 12,
     "metadata": {},
     "output_type": "execute_result"
    }
   ],
   "source": [
    "'cat' in spam"
   ]
  },
  {
   "cell_type": "code",
   "execution_count": 13,
   "id": "6b07640d",
   "metadata": {},
   "outputs": [
    {
     "data": {
      "text/plain": [
       "True"
      ]
     },
     "execution_count": 13,
     "metadata": {},
     "output_type": "execute_result"
    }
   ],
   "source": [
    "'cat' in spam.keys()"
   ]
  },
  {
   "cell_type": "markdown",
   "id": "6a9c5ae6",
   "metadata": {},
   "source": [
    "## 6. If a dictionary is stored in spam, what is the difference between the expressions 'cat' in spam and 'cat' in spam.values()?"
   ]
  },
  {
   "cell_type": "markdown",
   "id": "0c93e64c",
   "metadata": {},
   "source": [
    "'cat' in spam: This expression checks if the value 'cat' exists as a key in the dictionary spam. It returns a Boolean value (True or False) indicating whether the key is present or not. It looks for the value as a key, not as a value.\n",
    "\n",
    "'cat' in spam.values(): This expression checks if the value 'cat' exists as a value in the dictionary spam. It returns a Boolean value indicating whether the value is present or not. It specifically checks for the value within the dictionary's values."
   ]
  },
  {
   "cell_type": "code",
   "execution_count": 14,
   "id": "58618bff",
   "metadata": {},
   "outputs": [
    {
     "data": {
      "text/plain": [
       "True"
      ]
     },
     "execution_count": 14,
     "metadata": {},
     "output_type": "execute_result"
    }
   ],
   "source": [
    "'cat' in spam.keys()"
   ]
  },
  {
   "cell_type": "markdown",
   "id": "ebf7c216",
   "metadata": {},
   "source": [
    "## 7. What is a shortcut for the following code?\n",
    "\n",
    "if 'color' not in spam:\n",
    "\n",
    "spam['color'] = 'black'"
   ]
  },
  {
   "cell_type": "code",
   "execution_count": null,
   "id": "ac41b9c0",
   "metadata": {},
   "outputs": [],
   "source": [
    "spam.setdefault('color', 'black')"
   ]
  },
  {
   "cell_type": "markdown",
   "id": "4633b559",
   "metadata": {},
   "source": [
    "## 8. How do you &quot;pretty print&quot; dictionary values using which module and function?"
   ]
  },
  {
   "cell_type": "markdown",
   "id": "d7a49652",
   "metadata": {},
   "source": [
    "To \"pretty print\" dictionary values in Python, we can use the 'pprint' module and its 'pprint()' function. The 'pprint' module provides a way to display complex data structures, such as dictionaries, in a more readable and formatted manner. "
   ]
  },
  {
   "cell_type": "code",
   "execution_count": 18,
   "id": "daf90ab7",
   "metadata": {},
   "outputs": [
    {
     "name": "stdout",
     "output_type": "stream",
     "text": [
      "{'key1': 'value1', 'key2': 'value2', 'key3': 'value3'}\n"
     ]
    }
   ],
   "source": [
    "import pprint\n",
    "\n",
    "my_dict = {'key1': 'value1', 'key2': 'value2', 'key3': 'value3'}\n",
    "\n",
    "pprint.pprint(my_dict)\n"
   ]
  },
  {
   "cell_type": "code",
   "execution_count": null,
   "id": "e94abeda",
   "metadata": {},
   "outputs": [],
   "source": []
  }
 ],
 "metadata": {
  "kernelspec": {
   "display_name": "Python 3 (ipykernel)",
   "language": "python",
   "name": "python3"
  },
  "language_info": {
   "codemirror_mode": {
    "name": "ipython",
    "version": 3
   },
   "file_extension": ".py",
   "mimetype": "text/x-python",
   "name": "python",
   "nbconvert_exporter": "python",
   "pygments_lexer": "ipython3",
   "version": "3.10.7"
  }
 },
 "nbformat": 4,
 "nbformat_minor": 5
}
