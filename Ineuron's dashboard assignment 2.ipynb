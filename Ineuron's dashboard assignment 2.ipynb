{
 "cells": [
  {
   "cell_type": "markdown",
   "id": "aa2fcb7a",
   "metadata": {},
   "source": [
    "# 1.What are the two values of the Boolean data type? How do you write them?\n",
    "\n"
   ]
  },
  {
   "cell_type": "markdown",
   "id": "55a63f35",
   "metadata": {},
   "source": [
    "Two values of the Boolean data type are True and False. They are also written in the form of \n",
    "numbers like 1 for True and 0 for False."
   ]
  },
  {
   "cell_type": "markdown",
   "id": "d77e83ce",
   "metadata": {},
   "source": [
    "# 2. What are the three different types of Boolean operators?"
   ]
  },
  {
   "cell_type": "markdown",
   "id": "b0fea6b8",
   "metadata": {},
   "source": [
    "1. AND:- It returns True if both operands are true, otherwise, it returns False.\n",
    "2. OR:- It returns True if at least one of the operands is true, otherwise, it returns False. \n",
    "3. NOT:- It returns the opposite of the operand's value. If the operand is true, it returns False, and vice versa."
   ]
  },
  {
   "cell_type": "markdown",
   "id": "240f5f23",
   "metadata": {},
   "source": [
    "# 3. Make a list of each Boolean operator's truth tables (i.e. every possible combination of Boolean values for the operator and what it evaluate )."
   ]
  },
  {
   "cell_type": "markdown",
   "id": "9a467aac",
   "metadata": {},
   "source": [
    "Here are the truth tables for each of the three Boolean operators:\n",
    "\n",
    "1. AND operator:\n",
    "\n",
    "| Operand 1 | Operand 2 | Result |\n",
    "| --------- | --------- | ------ |\n",
    "| true      | true      | true   |\n",
    "| true      | false     | false  |\n",
    "| false     | true      | false  |\n",
    "| false     | false     | false  |\n",
    "\n",
    "2. OR operator:\n",
    "\n",
    "| Operand 1 | Operand 2 | Result |\n",
    "| --------- | --------- | ------ |\n",
    "| true      | true      | true   |\n",
    "| true      | false     | true   |\n",
    "| false     | true      | true   |\n",
    "| false     | false     | false  |\n",
    "\n",
    "3. NOT operator:\n",
    "\n",
    "| Operand | Result |\n",
    "| ------- | ------ |\n",
    "| true    | false  |\n",
    "| false   | true   |\n",
    "\n",
    "In these truth tables, \"true\" represents the Boolean value True, while \"false\" represents the Boolean value False. The result column shows the output of the Boolean operator based on the input values in the operand columns."
   ]
  },
  {
   "cell_type": "markdown",
   "id": "e5c19bc9",
   "metadata": {},
   "source": [
    "# 4. What are the values of the following expressions?\n",
    "### (5 > 4) and (3 == 5)\n",
    "### not (5 > 4)\n",
    "### (5 > 4) or (3 == 5)\n",
    "### not ((5 > 4) or (3 == 5))\n",
    "### (True and True) and (True == False)\n",
    "### (not False) or (not True)\n"
   ]
  },
  {
   "cell_type": "code",
   "execution_count": null,
   "id": "a8da7b13",
   "metadata": {},
   "outputs": [],
   "source": [
    "(5 > 4) and (3 == 5): False\n",
    "not(5 > 4): False\n",
    "(5 > 4) or (3 == 5): True\n",
    "not ((5 > 4) or (3 == 5)): False\n",
    "(True and True) and (True == False): False\n",
    "(not False) or (not True): True    "
   ]
  },
  {
   "cell_type": "code",
   "execution_count": 7,
   "id": "dcf96bb5",
   "metadata": {},
   "outputs": [
    {
     "data": {
      "text/plain": [
       "False"
      ]
     },
     "execution_count": 7,
     "metadata": {},
     "output_type": "execute_result"
    }
   ],
   "source": [
    "(5 > 4) and (3 == 5)"
   ]
  },
  {
   "cell_type": "code",
   "execution_count": 8,
   "id": "5c1e9522",
   "metadata": {},
   "outputs": [
    {
     "data": {
      "text/plain": [
       "False"
      ]
     },
     "execution_count": 8,
     "metadata": {},
     "output_type": "execute_result"
    }
   ],
   "source": [
    "not(5 > 4)"
   ]
  },
  {
   "cell_type": "code",
   "execution_count": 9,
   "id": "67a96edd",
   "metadata": {},
   "outputs": [
    {
     "data": {
      "text/plain": [
       "True"
      ]
     },
     "execution_count": 9,
     "metadata": {},
     "output_type": "execute_result"
    }
   ],
   "source": [
    "(5 > 4) or (3 == 5)"
   ]
  },
  {
   "cell_type": "code",
   "execution_count": 10,
   "id": "f46701fb",
   "metadata": {},
   "outputs": [
    {
     "data": {
      "text/plain": [
       "False"
      ]
     },
     "execution_count": 10,
     "metadata": {},
     "output_type": "execute_result"
    }
   ],
   "source": [
    "not ((5 > 4) or (3 == 5))"
   ]
  },
  {
   "cell_type": "code",
   "execution_count": 11,
   "id": "dd16ef71",
   "metadata": {},
   "outputs": [
    {
     "data": {
      "text/plain": [
       "False"
      ]
     },
     "execution_count": 11,
     "metadata": {},
     "output_type": "execute_result"
    }
   ],
   "source": [
    "(True and True) and (True == False)"
   ]
  },
  {
   "cell_type": "code",
   "execution_count": 12,
   "id": "cdf37c20",
   "metadata": {},
   "outputs": [
    {
     "data": {
      "text/plain": [
       "True"
      ]
     },
     "execution_count": 12,
     "metadata": {},
     "output_type": "execute_result"
    }
   ],
   "source": [
    "(not False) or (not True)"
   ]
  },
  {
   "cell_type": "markdown",
   "id": "8ca52d57",
   "metadata": {},
   "source": [
    "# 5. What are the six comparison operators?"
   ]
  },
  {
   "cell_type": "code",
   "execution_count": null,
   "id": "e9a275d7",
   "metadata": {},
   "outputs": [],
   "source": [
    "== equal to,\n",
    "\n",
    "!= not equal to,\n",
    "\n",
    "< less than,\n",
    "\n",
    "> greater than,\n",
    "\n",
    "<= less than or equal to,\n",
    "\n",
    ">= greater than or equal to"
   ]
  },
  {
   "cell_type": "markdown",
   "id": "d02d8230",
   "metadata": {},
   "source": [
    "# 6. How do you tell the difference between the equal to and assignment operators?Describe a condition and when you would use one."
   ]
  },
  {
   "cell_type": "markdown",
   "id": "38c1b184",
   "metadata": {},
   "source": [
    "The equal to operator is \"==\", which is used to compare the equality of two values,\n",
    "while the assignment operator is \"=\", which is used to assign a value to a variable.\n",
    "When writing code, it's important to use these operators correctly to avoid errors and unexpected behavior."
   ]
  },
  {
   "cell_type": "code",
   "execution_count": 2,
   "id": "e0f22f47",
   "metadata": {},
   "outputs": [
    {
     "name": "stdout",
     "output_type": "stream",
     "text": [
      "x is equal to 5\n"
     ]
    }
   ],
   "source": [
    "x = 5  # Assign the value 5 to variable x\n",
    "if x == 5:  # Compare if the value of x is equal to 5\n",
    "    print(\"x is equal to 5\")\n"
   ]
  },
  {
   "cell_type": "markdown",
   "id": "787b51fc",
   "metadata": {},
   "source": [
    "# 7. Identify the three blocks in this code:\n"
   ]
  },
  {
   "cell_type": "code",
   "execution_count": 1,
   "id": "ee4cc31d",
   "metadata": {},
   "outputs": [
    {
     "name": "stdout",
     "output_type": "stream",
     "text": [
      "ham\n",
      "spam\n",
      "spam\n"
     ]
    }
   ],
   "source": [
    "spam = 0\n",
    "if spam == 10:           # first if block\n",
    "    print('eggs')\n",
    "if spam > 5:             # second if block\n",
    "    print('bacon')\n",
    "else:                    # third else block\n",
    "    print('ham')\n",
    "    print('spam')\n",
    "    print('spam')\n",
    "# In this code the three blocks are if, if and else."
   ]
  },
  {
   "cell_type": "markdown",
   "id": "1accf67d",
   "metadata": {},
   "source": [
    "# 8. Write code that prints Hello if 1 is stored in spam, prints Howdy if 2 is stored in spam, and prints Greetings! if anything else is stored in spam."
   ]
  },
  {
   "cell_type": "code",
   "execution_count": 5,
   "id": "abea2fbc",
   "metadata": {},
   "outputs": [
    {
     "name": "stdout",
     "output_type": "stream",
     "text": [
      "2\n",
      "Howdy\n"
     ]
    }
   ],
   "source": [
    "spam = int(input())  # adding input so we can check for any number.\n",
    "if spam == 1:\n",
    "    print(\"Hello\")\n",
    "if spam == 2:\n",
    "    print(\"Howdy\")\n",
    "else:\n",
    "    print(\"Greetings!\")"
   ]
  },
  {
   "cell_type": "code",
   "execution_count": 6,
   "id": "69dc8c15",
   "metadata": {},
   "outputs": [
    {
     "name": "stdout",
     "output_type": "stream",
     "text": [
      "Greetings!\n"
     ]
    }
   ],
   "source": [
    "spam = 3  # or any other value\n",
    "\n",
    "if spam == 1:\n",
    "    print(\"Hello\")\n",
    "elif spam == 2:\n",
    "    print(\"Howdy\")\n",
    "else:\n",
    "    print(\"Greetings!\")\n"
   ]
  },
  {
   "cell_type": "markdown",
   "id": "a8f01dbb",
   "metadata": {},
   "source": [
    "# 9.If your programme is stuck in an endless loop, what keys you’ll press?\n"
   ]
  },
  {
   "cell_type": "code",
   "execution_count": null,
   "id": "a71be250",
   "metadata": {},
   "outputs": [],
   "source": [
    "\"Ctrl\" + \"C\" for windows and linux and \"Ctrl\" + \".\" for mac."
   ]
  },
  {
   "cell_type": "markdown",
   "id": "04197f96",
   "metadata": {},
   "source": [
    "# 10. How can you tell the difference between break and continue?"
   ]
  },
  {
   "cell_type": "markdown",
   "id": "db326568",
   "metadata": {},
   "source": [
    "The main difference between \"break\" and \"continue\" is that \"break\" is used to exit out of a loop completely, while \"continue\" is used to skip the current iteration of the loop and move on to the next iteration."
   ]
  },
  {
   "cell_type": "code",
   "execution_count": 13,
   "id": "23b8acca",
   "metadata": {},
   "outputs": [
    {
     "name": "stdout",
     "output_type": "stream",
     "text": [
      "0\n",
      "1\n",
      "2\n",
      "3\n",
      "4\n",
      "Loop ended with break\n"
     ]
    }
   ],
   "source": [
    "# Using break to exit out of a loop\n",
    "for i in range(10):\n",
    "    if i == 5:\n",
    "        break\n",
    "    print(i)\n",
    "print(\"Loop ended with break\")\n"
   ]
  },
  {
   "cell_type": "code",
   "execution_count": 14,
   "id": "86a0aaa5",
   "metadata": {},
   "outputs": [
    {
     "name": "stdout",
     "output_type": "stream",
     "text": [
      "0\n",
      "1\n",
      "2\n",
      "3\n",
      "4\n",
      "6\n",
      "7\n",
      "8\n",
      "9\n",
      "Loop ended with continue\n"
     ]
    }
   ],
   "source": [
    "# Using continue to skip iterations of a loop\n",
    "for i in range(10):\n",
    "    if i == 5:\n",
    "        continue\n",
    "    print(i)\n",
    "print(\"Loop ended with continue\")\n"
   ]
  },
  {
   "cell_type": "markdown",
   "id": "ae3e898b",
   "metadata": {},
   "source": [
    "# 11. In a for loop, what is the difference between range(10), range(0, 10), and range(0, 10, 1)?\n"
   ]
  },
  {
   "cell_type": "markdown",
   "id": "eda9a79b",
   "metadata": {},
   "source": [
    "In a for loop all of them are produce the same result-  a sequence of numbers 0 to 9.\n",
    "\n",
    "\n",
    "range(10): This specifies a sequence of numbers that starts at 0 and ends at 9 (inclusive) with a step size of 1. The starting value of 0 is the default for the range function if no start value is specified.\n",
    "\n",
    "range(0, 10): This also specifies a sequence of numbers that starts at 0 and ends at 9 (inclusive) with a step size of 1. However, in this case, the starting value of 0 is explicitly specified as the first argument.\n",
    "\n",
    "range(0, 10, 1): This specifies a sequence of numbers that starts at 0 and ends at 9 (inclusive) with a step size of 1. In this case, the starting value of 0 is explicitly specified as the first argument, and the step size of 1 is explicitly specified as the third argument."
   ]
  },
  {
   "cell_type": "markdown",
   "id": "7a471f9b",
   "metadata": {},
   "source": [
    "# 12. Write a short program that prints the numbers 1 to 10 using a for loop. Then write an equivalent program that prints the numbers 1 to 10 using a while loop.\n"
   ]
  },
  {
   "cell_type": "code",
   "execution_count": 15,
   "id": "1977d57c",
   "metadata": {},
   "outputs": [
    {
     "name": "stdout",
     "output_type": "stream",
     "text": [
      "1\n",
      "2\n",
      "3\n",
      "4\n",
      "5\n",
      "6\n",
      "7\n",
      "8\n",
      "9\n",
      "10\n"
     ]
    }
   ],
   "source": [
    "# Using a for loop to print the numbers 1 to 10\n",
    "for i in range(1, 11):\n",
    "    print(i)\n"
   ]
  },
  {
   "cell_type": "code",
   "execution_count": 16,
   "id": "a1e98d7f",
   "metadata": {},
   "outputs": [
    {
     "name": "stdout",
     "output_type": "stream",
     "text": [
      "1\n",
      "2\n",
      "3\n",
      "4\n",
      "5\n",
      "6\n",
      "7\n",
      "8\n",
      "9\n",
      "10\n"
     ]
    }
   ],
   "source": [
    "# Using a while loop to print the numbers 1 to 10\n",
    "i = 1\n",
    "while i <= 10:\n",
    "    print(i)\n",
    "    i += 1\n"
   ]
  },
  {
   "cell_type": "markdown",
   "id": "56250716",
   "metadata": {},
   "source": [
    "# 13. If you had a function named bacon() inside a module named spam, how would you call it after importing spam?"
   ]
  },
  {
   "cell_type": "code",
   "execution_count": null,
   "id": "ec9bfd0e",
   "metadata": {},
   "outputs": [],
   "source": [
    "import spam\n",
    "\n",
    "spam.bacon()"
   ]
  }
 ],
 "metadata": {
  "kernelspec": {
   "display_name": "Python 3 (ipykernel)",
   "language": "python",
   "name": "python3"
  },
  "language_info": {
   "codemirror_mode": {
    "name": "ipython",
    "version": 3
   },
   "file_extension": ".py",
   "mimetype": "text/x-python",
   "name": "python",
   "nbconvert_exporter": "python",
   "pygments_lexer": "ipython3",
   "version": "3.10.7"
  }
 },
 "nbformat": 4,
 "nbformat_minor": 5
}
