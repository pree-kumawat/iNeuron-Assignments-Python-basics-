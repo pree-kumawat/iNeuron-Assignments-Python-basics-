{
 "cells": [
  {
   "cell_type": "markdown",
   "id": "b0b06d46",
   "metadata": {},
   "source": [
    "## 1. Why are functions advantageous to have in your programs?"
   ]
  },
  {
   "cell_type": "markdown",
   "id": "0701d52f",
   "metadata": {},
   "source": [
    "Functions are advantageous to have in your programs for the following reasons:\n",
    "\n",
    "1. Reusability: Functions can be defined once and used many times throughout your program. This can save you time and effort since you don't have to rewrite the same code over and over again.\n",
    "\n",
    "2. Modularity: Functions allow you to break your program down into smaller, more manageable pieces. This can make your code easier to read, understand, and maintain.\n",
    "\n",
    "3. Abstraction: Functions allow you to hide the complexity of your code behind a simple interface. This can make your code easier to use and understand, especially for other programmers who may not be familiar with the details of your implementation.\n",
    "\n",
    "4. Testing and debugging: Functions make it easier to test and debug your code. By isolating functionality into separate functions, you can more easily identify and fix problems when they arise.\n",
    "\n",
    "5. Scalability: Functions can help you build more scalable programs. By breaking your code down into smaller, modular pieces, you can more easily add new features and functionality as your program grows in complexity.\n",
    "\n",
    "Functions can make your programs more efficient, easier to read and maintain, and more scalable over time."
   ]
  },
  {
   "cell_type": "markdown",
   "id": "3b5ce444",
   "metadata": {},
   "source": [
    "## 2. When does the code in a function run: when it&#39;s specified or when it&#39;s called?"
   ]
  },
  {
   "cell_type": "markdown",
   "id": "c73bc526",
   "metadata": {},
   "source": [
    "The code in a function runs when the function is called, not when it is specified.\n",
    "\n"
   ]
  },
  {
   "cell_type": "code",
   "execution_count": 7,
   "id": "93aa8b45",
   "metadata": {},
   "outputs": [
    {
     "name": "stdout",
     "output_type": "stream",
     "text": [
      "Hello, world!\n"
     ]
    }
   ],
   "source": [
    "def my_function():\n",
    "    print(\"Hello, world!\")\n",
    "\n",
    "my_function()   # This line calls the function and executes its code\n"
   ]
  },
  {
   "cell_type": "markdown",
   "id": "df976b78",
   "metadata": {},
   "source": [
    "## 3. What statement creates a function?"
   ]
  },
  {
   "cell_type": "markdown",
   "id": "69540c72",
   "metadata": {},
   "source": [
    "The 'def' statement is used to create a function in Python."
   ]
  },
  {
   "cell_type": "code",
   "execution_count": 8,
   "id": "53c84967",
   "metadata": {},
   "outputs": [],
   "source": [
    "def greet(name):\n",
    "    print(f\"Hello, {name}! How are you today?\")\n"
   ]
  },
  {
   "cell_type": "code",
   "execution_count": 9,
   "id": "f5c8d261",
   "metadata": {},
   "outputs": [
    {
     "name": "stdout",
     "output_type": "stream",
     "text": [
      "Hello, Preeti! How are you today?\n"
     ]
    }
   ],
   "source": [
    "greet(\"Preeti\")"
   ]
  },
  {
   "cell_type": "markdown",
   "id": "f1b2ce4a",
   "metadata": {},
   "source": [
    "## 4. What is the difference between a function and a function call?"
   ]
  },
  {
   "cell_type": "markdown",
   "id": "d3a8bf2d",
   "metadata": {},
   "source": [
    "A function is a named block of code that performs a specific task or returns a value when called. It is a set of instructions that are executed when the function is invoked.\n",
    "\n",
    "On the other hand, a function call is a request to execute the code inside a function. It is an instruction to the program to execute a specific function with a set of arguments or parameters."
   ]
  },
  {
   "cell_type": "code",
   "execution_count": 10,
   "id": "2ed11390",
   "metadata": {},
   "outputs": [
    {
     "name": "stdout",
     "output_type": "stream",
     "text": [
      "5\n"
     ]
    }
   ],
   "source": [
    "# Defining a function\n",
    "def add_numbers(a, b):\n",
    "    return a + b\n",
    "\n",
    "# Calling the function\n",
    "result = add_numbers(2, 3)\n",
    "print(result)   \n"
   ]
  },
  {
   "cell_type": "markdown",
   "id": "57f45768",
   "metadata": {},
   "source": [
    "## 5. How many global scopes are there in a Python program? How many local scopes?"
   ]
  },
  {
   "cell_type": "markdown",
   "id": "431c6d41",
   "metadata": {},
   "source": [
    "In a Python program, there is only one global scope, which is created when the program starts running. This global scope is accessible from any part of the program, including inside functions, and any variables or functions defined in the global scope can be accessed from anywhere in the program.\n",
    "\n",
    "On the other hand, there can be multiple local scopes in a Python program, which are created whenever a function is called. Each time a function is called, a new local scope is created for that function, which contains any variables defined inside the function. The local scope is only accessible from within the function and is destroyed when the function returns."
   ]
  },
  {
   "cell_type": "code",
   "execution_count": 11,
   "id": "a526898c",
   "metadata": {},
   "outputs": [
    {
     "name": "stdout",
     "output_type": "stream",
     "text": [
      "10\n",
      "5\n",
      "10\n"
     ]
    },
    {
     "ename": "NameError",
     "evalue": "name 'y' is not defined",
     "output_type": "error",
     "traceback": [
      "\u001b[1;31m---------------------------------------------------------------------------\u001b[0m",
      "\u001b[1;31mNameError\u001b[0m                                 Traceback (most recent call last)",
      "Input \u001b[1;32mIn [11]\u001b[0m, in \u001b[0;36m<cell line: 10>\u001b[1;34m()\u001b[0m\n\u001b[0;32m      8\u001b[0m my_function()   \u001b[38;5;66;03m# Output: 10 \\n 5\u001b[39;00m\n\u001b[0;32m      9\u001b[0m \u001b[38;5;28mprint\u001b[39m(x)   \u001b[38;5;66;03m# Output: 10\u001b[39;00m\n\u001b[1;32m---> 10\u001b[0m \u001b[38;5;28mprint\u001b[39m(\u001b[43my\u001b[49m)\n",
      "\u001b[1;31mNameError\u001b[0m: name 'y' is not defined"
     ]
    }
   ],
   "source": [
    "x = 10   # Global variable\n",
    "\n",
    "def my_function():\n",
    "    y = 5   # Local variable\n",
    "    print(x)   # Access global variable\n",
    "    print(y)   # Access local variable\n",
    "\n",
    "my_function()   # Output: 10 \\n 5\n",
    "print(x)     # Output: 10\n",
    "print(y)     # Error: NameError: name 'y' is not defined\n"
   ]
  },
  {
   "cell_type": "markdown",
   "id": "3c8d3bb4",
   "metadata": {},
   "source": [
    "## 6. What happens to variables in a local scope when the function call returns?"
   ]
  },
  {
   "cell_type": "markdown",
   "id": "48ef8f4a",
   "metadata": {},
   "source": [
    "When a function call returns, the local scope of the function is destroyed, and any variables defined in that scope are also destroyed. This means that variables that are defined inside a function are not accessible outside of that function, since they are destroyed when the function returns."
   ]
  },
  {
   "cell_type": "markdown",
   "id": "bbf04263",
   "metadata": {},
   "source": [
    "## 7. What is the concept of a return value? Is it possible to have a return value in an expression?"
   ]
  },
  {
   "cell_type": "markdown",
   "id": "1c7394b8",
   "metadata": {},
   "source": [
    "A \"return value\" is the value that a function or expression produces when it completes its execution. The return value can be a result of a computation, or it can indicate the status or outcome of an operation.\n",
    "\n",
    "When a function or expression returns a value, it means that it has finished its task and it has produced a result that can be used by the calling code. The return value can be assigned to a variable, used in an expression, or passed as an argument to another function.\n",
    "\n",
    "Yes, it is possible to have a return value in an expression. For example, you can use a function call as part of an expression and assign the result of the function call to a variable. Here's an example:"
   ]
  },
  {
   "cell_type": "code",
   "execution_count": 14,
   "id": "4a598049",
   "metadata": {},
   "outputs": [
    {
     "name": "stdout",
     "output_type": "stream",
     "text": [
      "34\n"
     ]
    }
   ],
   "source": [
    "def square(x):\n",
    "    return x ** 2\n",
    "\n",
    "result = square(5) + square(3)\n",
    "print(result)   # Output: 34\n"
   ]
  },
  {
   "cell_type": "markdown",
   "id": "f8409fe7",
   "metadata": {},
   "source": [
    "## 8. If a function does not have a return statement, what is the return value of a call to that function?"
   ]
  },
  {
   "cell_type": "markdown",
   "id": "99aa2324",
   "metadata": {},
   "source": [
    "If a function does not have a \"return\" statement, then a call to that function will return \"None\" by default. \"None\" is a special value in Python that represents the absence of a value or the lack of a value."
   ]
  },
  {
   "cell_type": "code",
   "execution_count": 16,
   "id": "a6f8cdb1",
   "metadata": {},
   "outputs": [
    {
     "name": "stdout",
     "output_type": "stream",
     "text": [
      "Hello!\n",
      "None\n"
     ]
    }
   ],
   "source": [
    "def print_hello():\n",
    "    print(\"Hello!\")\n",
    "\n",
    "result = print_hello()\n",
    "print(result)   # Output: None\n"
   ]
  },
  {
   "cell_type": "markdown",
   "id": "d738826d",
   "metadata": {},
   "source": [
    "## 9. How do you make a function variable refer to the global variable?"
   ]
  },
  {
   "cell_type": "markdown",
   "id": "4aed2b22",
   "metadata": {},
   "source": [
    "if you want to make a function variable refer to a global variable with the same name, you can use the 'global' keyword inside the function. The 'global' keyword tells Python that you want to use the global variable instead of creating a new local variable with the same name.\n",
    "\n",
    "Here's an example:"
   ]
  },
  {
   "cell_type": "code",
   "execution_count": 17,
   "id": "669243c3",
   "metadata": {},
   "outputs": [
    {
     "name": "stdout",
     "output_type": "stream",
     "text": [
      "5\n"
     ]
    }
   ],
   "source": [
    "x = 10    # Global variable\n",
    "\n",
    "def my_function():\n",
    "    global x    # Declare x as a global variable\n",
    "    x = 5      # Assign a new value to the global variable\n",
    "\n",
    "my_function()   # Call the function\n",
    "print(x)        # Output: 5\n"
   ]
  },
  {
   "cell_type": "markdown",
   "id": "9a926246",
   "metadata": {},
   "source": [
    "## 10. What is the data type of None?"
   ]
  },
  {
   "cell_type": "markdown",
   "id": "8019cdac",
   "metadata": {},
   "source": [
    "\"None\" is of the \"NoneType\" data type, which is a built-in data type in Python. It is the only value of the \"NoneType\" data type, and it is a singleton object, which means that there is only one \"None\" object in memory, regardless of how many times it is used in your code."
   ]
  },
  {
   "cell_type": "code",
   "execution_count": 18,
   "id": "a0429d09",
   "metadata": {},
   "outputs": [
    {
     "name": "stdout",
     "output_type": "stream",
     "text": [
      "<class 'NoneType'>\n"
     ]
    }
   ],
   "source": [
    "print(type(None))   # Output: <class 'NoneType'>\n"
   ]
  },
  {
   "cell_type": "markdown",
   "id": "cc6111cc",
   "metadata": {},
   "source": [
    "## 11. What does the sentence import areallyourpetsnamederic do?"
   ]
  },
  {
   "cell_type": "markdown",
   "id": "ef70b996",
   "metadata": {},
   "source": [
    "The \"import\" statement is used to import modules or packages that contain pre-defined functions, classes, and variables that you can use in your code. The 'areallyourpetsnamederic' name doesn't correspond to any known Python module or package, so if you run the \"import areallyourpetsnamederic\" statement, it will raise an ImportError exception with the message No module named 'areallyourpetsnamederic'."
   ]
  },
  {
   "cell_type": "code",
   "execution_count": 19,
   "id": "bce043c8",
   "metadata": {},
   "outputs": [
    {
     "ename": "ModuleNotFoundError",
     "evalue": "No module named 'areallyourpetsnamederic'",
     "output_type": "error",
     "traceback": [
      "\u001b[1;31m---------------------------------------------------------------------------\u001b[0m",
      "\u001b[1;31mModuleNotFoundError\u001b[0m                       Traceback (most recent call last)",
      "Input \u001b[1;32mIn [19]\u001b[0m, in \u001b[0;36m<cell line: 1>\u001b[1;34m()\u001b[0m\n\u001b[1;32m----> 1\u001b[0m \u001b[38;5;28;01mimport\u001b[39;00m \u001b[38;5;21;01mareallyourpetsnamederic\u001b[39;00m\n",
      "\u001b[1;31mModuleNotFoundError\u001b[0m: No module named 'areallyourpetsnamederic'"
     ]
    }
   ],
   "source": [
    "import areallyourpetsnamederic"
   ]
  },
  {
   "cell_type": "markdown",
   "id": "0db65d88",
   "metadata": {},
   "source": [
    "## 12. If you had a bacon() feature in a spam module, what would you call it after importing spam?"
   ]
  },
  {
   "cell_type": "code",
   "execution_count": null,
   "id": "dcd97475",
   "metadata": {},
   "outputs": [],
   "source": [
    "import spam\n",
    "\n",
    "spam.bacon()"
   ]
  },
  {
   "cell_type": "markdown",
   "id": "46527145",
   "metadata": {},
   "source": [
    "## 13. What can you do to save a programme from crashing if it encounters an error?"
   ]
  },
  {
   "cell_type": "markdown",
   "id": "eaff43c3",
   "metadata": {},
   "source": [
    "To prevent a program from crashing due to errors, we can use exception handling.\n",
    "\n",
    "We can use a \"try-except\" block to handle exceptions and prevent the program from crashing. The 'try' block contains the code that may raise an exception, and the 'except' block contains the code that handles the exception if it occurs. Here's an example:"
   ]
  },
  {
   "cell_type": "code",
   "execution_count": 20,
   "id": "319bb609",
   "metadata": {},
   "outputs": [
    {
     "name": "stdout",
     "output_type": "stream",
     "text": [
      "An error occurred\n"
     ]
    }
   ],
   "source": [
    "try:\n",
    "    x = 10 / 0                     # Code that may raise an exception\n",
    "    \n",
    "except:\n",
    "    print(\"An error occurred\")      # Code that handles the exception\n",
    "    \n"
   ]
  },
  {
   "cell_type": "markdown",
   "id": "bdcbd081",
   "metadata": {},
   "source": [
    "## 14. What is the purpose of the try clause? What is the purpose of the except clause?"
   ]
  },
  {
   "cell_type": "markdown",
   "id": "70f0a9ad",
   "metadata": {},
   "source": [
    "The try and except clauses are used together to handle exceptions and prevent a program from crashing due to errors.\n",
    "\n",
    "The 'try' clause is used to enclose the code that may raise an exception. If an exception occurs while executing the code inside the try block, the execution of the block is immediately terminated, and the Python interpreter looks for an except block that can handle the exception.\n",
    "\n",
    "The 'except' clause is used to define the code that should be executed if an exception occurs inside the try block. The code inside the except block is executed only if the type of the exception that occurred in the try block matches the type of the exception specified in the except block.\n",
    "\n",
    "Here is an example of this:"
   ]
  },
  {
   "cell_type": "code",
   "execution_count": 21,
   "id": "b36e7ba6",
   "metadata": {},
   "outputs": [
    {
     "name": "stdout",
     "output_type": "stream",
     "text": [
      "You cannot divide a number by zero.\n"
     ]
    }
   ],
   "source": [
    "try:\n",
    "    # Code that may raise an exception\n",
    "    x = 10 / 0\n",
    "except ZeroDivisionError:\n",
    "    # Code that handles the exception\n",
    "    print(\"You cannot divide a number by zero.\")\n"
   ]
  },
  {
   "cell_type": "code",
   "execution_count": null,
   "id": "b1bbe39a",
   "metadata": {},
   "outputs": [],
   "source": []
  }
 ],
 "metadata": {
  "kernelspec": {
   "display_name": "Python 3 (ipykernel)",
   "language": "python",
   "name": "python3"
  },
  "language_info": {
   "codemirror_mode": {
    "name": "ipython",
    "version": 3
   },
   "file_extension": ".py",
   "mimetype": "text/x-python",
   "name": "python",
   "nbconvert_exporter": "python",
   "pygments_lexer": "ipython3",
   "version": "3.10.7"
  }
 },
 "nbformat": 4,
 "nbformat_minor": 5
}
