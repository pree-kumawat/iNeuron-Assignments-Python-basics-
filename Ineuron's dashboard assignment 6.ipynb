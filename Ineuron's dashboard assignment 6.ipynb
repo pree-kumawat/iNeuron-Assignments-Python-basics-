{
 "cells": [
  {
   "cell_type": "markdown",
   "id": "05bf70d2",
   "metadata": {},
   "source": [
    "## 1. What are escape characters, and how do you use them?"
   ]
  },
  {
   "cell_type": "markdown",
   "id": "4813d549",
   "metadata": {},
   "source": [
    "There are some commonly used escape characters:\n",
    "1. \\n - Newline: Inserts a new line.\n",
    "2. \\t - Tab: Inserts a tab space.\n",
    "3. \\\" - Double quote: Inserts a double quote within a string.\n",
    "4. \\' - Single quote: Inserts a single quote within a string.\n",
    "5. \\\\ - Backslash: Inserts a literal backslash."
   ]
  },
  {
   "cell_type": "code",
   "execution_count": 1,
   "id": "94be93b1",
   "metadata": {},
   "outputs": [
    {
     "name": "stdout",
     "output_type": "stream",
     "text": [
      "Hello\n",
      "World\n",
      "Hello\tWorld\n",
      "She said, \"Hello!\"\n",
      "He's happy.\n",
      "C:\\path\\to\\file\n"
     ]
    }
   ],
   "source": [
    "# Newline and tab\n",
    "print(\"Hello\\nWorld\")\n",
    "print(\"Hello\\tWorld\")\n",
    "\n",
    "# Double and single quotes\n",
    "print(\"She said, \\\"Hello!\\\"\")\n",
    "print('He\\'s happy.')\n",
    "\n",
    "# Backslash\n",
    "print(\"C:\\\\path\\\\to\\\\file\")\n"
   ]
  },
  {
   "cell_type": "markdown",
   "id": "adecaced",
   "metadata": {},
   "source": [
    "## 2. What do the escape characters n and t stand for?"
   ]
  },
  {
   "cell_type": "markdown",
   "id": "533519f1",
   "metadata": {},
   "source": [
    "The escape character \\n represents a newline, and the escape character \\t represents a tab.\n",
    "\n",
    "1. \\n: Newline :-\n",
    "\n",
    "The \\n escape character is used to insert a newline in a string. When encountered in a string, it causes the text following it to start on a new line. It is commonly used to format text or create line breaks.\n",
    "\n",
    "2. \\t: Tab:-\n",
    "\n",
    "The \\t escape character is used to insert a tab space in a string. When encountered in a string, it adds horizontal spacing, equivalent to pressing the Tab key. It is often used for indentation or aligning text in a specific format."
   ]
  },
  {
   "cell_type": "markdown",
   "id": "a5490aab",
   "metadata": {},
   "source": [
    "## 3. What is the way to include backslash characters in a string?"
   ]
  },
  {
   "cell_type": "raw",
   "id": "e060423a",
   "metadata": {},
   "source": [
    "To include a backslash character (\\) in a string, we can use the escape character \\\\. When you use \\\\, it represents a literal backslash in the resulting string."
   ]
  },
  {
   "cell_type": "markdown",
   "id": "63738c8e",
   "metadata": {},
   "source": [
    "## 4. The string &quot;Howl&#39;s Moving Castle&quot; is a correct value. Why isn&#39;t the single quote character in the word Howl&#39;s not escaped a problem?"
   ]
  },
  {
   "cell_type": "markdown",
   "id": "695b74ec",
   "metadata": {},
   "source": [
    "In Python, we can include a single quote character within a string delimited by double quotes, or vice versa, without needing to escape it. This is because Python allows us to use single quotes (') to define a string literal when it does not contain a single quote character, and likewise for double quotes (\")."
   ]
  },
  {
   "cell_type": "markdown",
   "id": "1d0193d0",
   "metadata": {},
   "source": [
    "## 5. How do you write a string of newlines if you don&#39;t want to use the n character?"
   ]
  },
  {
   "cell_type": "markdown",
   "id": "f5789602",
   "metadata": {},
   "source": [
    "We can use triple quotes (\"\"\" or ''') to create a multiline string, where newlines are preserved without the need for the escape character."
   ]
  },
  {
   "cell_type": "code",
   "execution_count": 2,
   "id": "1c1894ae",
   "metadata": {},
   "outputs": [
    {
     "name": "stdout",
     "output_type": "stream",
     "text": [
      "Line 1\n",
      "Line 2\n",
      "Line 3\n"
     ]
    }
   ],
   "source": [
    "multiline_string = \"\"\"Line 1\n",
    "Line 2\n",
    "Line 3\"\"\"\n",
    "print(multiline_string)"
   ]
  },
  {
   "cell_type": "markdown",
   "id": "56284076",
   "metadata": {},
   "source": [
    "## 6. What are the values of the given expressions?\n",
    "&#39;Hello, world!&#39;[1]\n",
    "\n",
    "&#39;Hello, world!&#39;[0:5]\n",
    "\n",
    "&#39;Hello, world!&#39;[:5]\n",
    "\n",
    "&#39;Hello, world!&#39;[3:]"
   ]
  },
  {
   "cell_type": "code",
   "execution_count": 3,
   "id": "2a6de109",
   "metadata": {},
   "outputs": [
    {
     "data": {
      "text/plain": [
       "'e'"
      ]
     },
     "execution_count": 3,
     "metadata": {},
     "output_type": "execute_result"
    }
   ],
   "source": [
    "'Hello, world!'[1]"
   ]
  },
  {
   "cell_type": "code",
   "execution_count": 4,
   "id": "bc3020b7",
   "metadata": {},
   "outputs": [
    {
     "data": {
      "text/plain": [
       "'Hello'"
      ]
     },
     "execution_count": 4,
     "metadata": {},
     "output_type": "execute_result"
    }
   ],
   "source": [
    "'Hello, world!'[0:5]"
   ]
  },
  {
   "cell_type": "code",
   "execution_count": 5,
   "id": "4a101de5",
   "metadata": {},
   "outputs": [
    {
     "data": {
      "text/plain": [
       "'Hello'"
      ]
     },
     "execution_count": 5,
     "metadata": {},
     "output_type": "execute_result"
    }
   ],
   "source": [
    "'Hello, world!'[:5]"
   ]
  },
  {
   "cell_type": "code",
   "execution_count": 6,
   "id": "39425933",
   "metadata": {},
   "outputs": [
    {
     "data": {
      "text/plain": [
       "'lo, world!'"
      ]
     },
     "execution_count": 6,
     "metadata": {},
     "output_type": "execute_result"
    }
   ],
   "source": [
    "'Hello, world!'[3:]"
   ]
  },
  {
   "cell_type": "markdown",
   "id": "96ccda62",
   "metadata": {},
   "source": [
    "## 7. What are the values of the following expressions?\n",
    "&#39;Hello&#39;.upper()\n",
    "\n",
    "&#39;Hello&#39;.upper().isupper()\n",
    "\n",
    "&#39;Hello&#39;.upper().lower()"
   ]
  },
  {
   "cell_type": "code",
   "execution_count": 7,
   "id": "276de236",
   "metadata": {},
   "outputs": [
    {
     "data": {
      "text/plain": [
       "'HELLO'"
      ]
     },
     "execution_count": 7,
     "metadata": {},
     "output_type": "execute_result"
    }
   ],
   "source": [
    "'Hello'.upper()"
   ]
  },
  {
   "cell_type": "code",
   "execution_count": 8,
   "id": "55befdbb",
   "metadata": {},
   "outputs": [
    {
     "data": {
      "text/plain": [
       "True"
      ]
     },
     "execution_count": 8,
     "metadata": {},
     "output_type": "execute_result"
    }
   ],
   "source": [
    "'Hello'.upper().isupper()"
   ]
  },
  {
   "cell_type": "code",
   "execution_count": 9,
   "id": "bf43436e",
   "metadata": {},
   "outputs": [
    {
     "data": {
      "text/plain": [
       "'hello'"
      ]
     },
     "execution_count": 9,
     "metadata": {},
     "output_type": "execute_result"
    }
   ],
   "source": [
    "'Hello'.upper().lower()"
   ]
  },
  {
   "cell_type": "markdown",
   "id": "703781c7",
   "metadata": {},
   "source": [
    "## 8. What are the values of the following expressions?\n",
    "&#39;Remember, remember, the fifth of July.&#39;.split()\n",
    "\n",
    "&#39;-&#39;.join(&#39;There can only one.&#39;.split())"
   ]
  },
  {
   "cell_type": "code",
   "execution_count": 10,
   "id": "99f4a019",
   "metadata": {},
   "outputs": [
    {
     "data": {
      "text/plain": [
       "['Remember,', 'remember,', 'the', 'fifth', 'of', 'July.']"
      ]
     },
     "execution_count": 10,
     "metadata": {},
     "output_type": "execute_result"
    }
   ],
   "source": [
    "'Remember, remember, the fifth of July.'.split()"
   ]
  },
  {
   "cell_type": "code",
   "execution_count": 11,
   "id": "2acd5cc8",
   "metadata": {},
   "outputs": [
    {
     "data": {
      "text/plain": [
       "'There-can-only-one.'"
      ]
     },
     "execution_count": 11,
     "metadata": {},
     "output_type": "execute_result"
    }
   ],
   "source": [
    "'-'.join('There can only one.'.split())"
   ]
  },
  {
   "cell_type": "markdown",
   "id": "1fbb13e3",
   "metadata": {},
   "source": [
    "## 9. What are the methods for right-justifying, left-justifying, and centering a string?"
   ]
  },
  {
   "cell_type": "markdown",
   "id": "da50ece9",
   "metadata": {},
   "source": [
    "We can use the following string methods to modify the justification of a string:\n",
    "\n",
    "1. ljust(width[, fillchar]):- This method left-justifies a string by padding it with a specified character (fillchar) on the right, until the string reaches a specified width (width)."
   ]
  },
  {
   "cell_type": "code",
   "execution_count": 12,
   "id": "d4b3a157",
   "metadata": {},
   "outputs": [
    {
     "name": "stdout",
     "output_type": "stream",
     "text": [
      "Hello-----\n"
     ]
    }
   ],
   "source": [
    "text = \"Hello\"\n",
    "justified_text = text.ljust(10, \"-\")\n",
    "print(justified_text)"
   ]
  },
  {
   "cell_type": "markdown",
   "id": "40092059",
   "metadata": {},
   "source": [
    "2. rjust(width[, fillchar]):- This method right-justifies a string by padding it with a specified character (fillchar) on the left, until the string reaches a specified width (width)."
   ]
  },
  {
   "cell_type": "code",
   "execution_count": 13,
   "id": "b7d716c6",
   "metadata": {},
   "outputs": [
    {
     "name": "stdout",
     "output_type": "stream",
     "text": [
      "-----Hello\n"
     ]
    }
   ],
   "source": [
    "text = \"Hello\"\n",
    "justified_text = text.rjust(10, \"-\")\n",
    "print(justified_text)"
   ]
  },
  {
   "cell_type": "markdown",
   "id": "7d060731",
   "metadata": {},
   "source": [
    "3. center(width[, fillchar]):- This method centers a string by padding it with a specified character (fillchar) on both sides, until the string reaches a specified width (width)."
   ]
  },
  {
   "cell_type": "code",
   "execution_count": 14,
   "id": "ea32f221",
   "metadata": {},
   "outputs": [
    {
     "name": "stdout",
     "output_type": "stream",
     "text": [
      "--Hello---\n"
     ]
    }
   ],
   "source": [
    "text = \"Hello\"\n",
    "justified_text = text.center(10, \"-\")\n",
    "print(justified_text)"
   ]
  },
  {
   "cell_type": "markdown",
   "id": "09bec551",
   "metadata": {},
   "source": [
    "## 10. What is the best way to remove whitespace characters from the start or end?"
   ]
  },
  {
   "cell_type": "markdown",
   "id": "6436f9d0",
   "metadata": {},
   "source": [
    "We can remove whitespace characters from the start or end of a string using the strip() method. The strip() method removes whitespace characters (spaces, tabs, newlines) from both the beginning and end of a string and returns the modified string."
   ]
  },
  {
   "cell_type": "code",
   "execution_count": 15,
   "id": "b66fd860",
   "metadata": {},
   "outputs": [
    {
     "name": "stdout",
     "output_type": "stream",
     "text": [
      "Hello, World!\n"
     ]
    }
   ],
   "source": [
    "text = \"   Hello, World!   \"\n",
    "modified_text = text.strip()\n",
    "print(modified_text)"
   ]
  },
  {
   "cell_type": "markdown",
   "id": "464576c9",
   "metadata": {},
   "source": [
    " If we only want to remove whitespace from the start (left) or end (right) of the string, we can use the lstrip() and rstrip() methods, respectively."
   ]
  },
  {
   "cell_type": "code",
   "execution_count": 16,
   "id": "07af9925",
   "metadata": {},
   "outputs": [
    {
     "name": "stdout",
     "output_type": "stream",
     "text": [
      "Hello, World!   \n",
      "   Hello, World!\n"
     ]
    }
   ],
   "source": [
    "text = \"   Hello, World!   \"\n",
    "left_stripped_text = text.lstrip()\n",
    "right_stripped_text = text.rstrip()\n",
    "\n",
    "print(left_stripped_text)\n",
    "print(right_stripped_text)"
   ]
  },
  {
   "cell_type": "code",
   "execution_count": null,
   "id": "cb3a709e",
   "metadata": {},
   "outputs": [],
   "source": []
  }
 ],
 "metadata": {
  "kernelspec": {
   "display_name": "Python 3 (ipykernel)",
   "language": "python",
   "name": "python3"
  },
  "language_info": {
   "codemirror_mode": {
    "name": "ipython",
    "version": 3
   },
   "file_extension": ".py",
   "mimetype": "text/x-python",
   "name": "python",
   "nbconvert_exporter": "python",
   "pygments_lexer": "ipython3",
   "version": "3.10.7"
  }
 },
 "nbformat": 4,
 "nbformat_minor": 5
}
